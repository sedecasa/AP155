{
  "nbformat": 4,
  "nbformat_minor": 0,
  "metadata": {
    "colab": {
      "provenance": [],
      "authorship_tag": "ABX9TyOs3Xhzw5LiIQpLVH3RMolo",
      "include_colab_link": true
    },
    "kernelspec": {
      "name": "python3",
      "display_name": "Python 3"
    },
    "language_info": {
      "name": "python"
    }
  },
  "cells": [
    {
      "cell_type": "markdown",
      "metadata": {
        "id": "view-in-github",
        "colab_type": "text"
      },
      "source": [
        "<a href=\"https://colab.research.google.com/github/sedecasa/AP155/blob/main/Matrices_P2.ipynb\" target=\"_parent\"><img src=\"https://colab.research.google.com/assets/colab-badge.svg\" alt=\"Open In Colab\"/></a>"
      ]
    },
    {
      "cell_type": "code",
      "source": [
        "# problem 4.17\n",
        "import numpy as np\n",
        "\n",
        "inA = np.array([4., 4, 8, 4, 4, 5, 3, 7, 8, 3, 9, 9, 4, 7, 9, 5]).reshape(4, 4)\n",
        "inbs = np.array([1., 2, 3, 4])\n",
        "\n",
        "def backsub(U, bs):   #performs back substitution\n",
        "  n = bs.size\n",
        "  xs = np.zeros(n)\n",
        "  for i in reversed(range(n)):\n",
        "    xs[i] = (bs[i] - U[i, i+1:]@xs[i+1:])/U[i, i]\n",
        "  return xs\n",
        "\n",
        "def gauelim(inA, inbs):   #performs gaussian elimination\n",
        "  A = np.copy(inA)\n",
        "  bs = np.copy(inbs)\n",
        "  n = bs.size\n",
        "\n",
        "  #performs elementary row operations so the matrix becomes triangular\n",
        "  for j in range(n-1):\n",
        "    for i in range(j+1, n):\n",
        "      coeff = A[i, j]/A[j, j]   #calculates the coefficient for row elimination\n",
        "      A[i, j:] -= coeff * A[j, j:]\n",
        "      bs[i] -= coeff * bs[j]\n",
        "\n",
        "  print(A)\n",
        "  print(bs)\n",
        "  xs = backsub(A, bs)\n",
        "  return xs\n",
        "\n",
        "print(gauelim(inA, inbs))"
      ],
      "metadata": {
        "colab": {
          "base_uri": "https://localhost:8080/"
        },
        "id": "pkhnZU8ETyg1",
        "outputId": "2b2c0f25-ce00-4591-dbd0-3d234f21afea"
      },
      "execution_count": null,
      "outputs": [
        {
          "output_type": "stream",
          "name": "stdout",
          "text": [
            "[[  4.   4.   8.   4.]\n",
            " [  0.   1.  -5.   3.]\n",
            " [  0.   0. -32.  16.]\n",
            " [  0.   0.   0.   0.]]\n",
            "[1. 1. 6. 3.]\n",
            "[nan nan inf inf]\n"
          ]
        },
        {
          "output_type": "stream",
          "name": "stderr",
          "text": [
            "/tmp/ipython-input-555807959.py:11: RuntimeWarning: divide by zero encountered in scalar divide\n",
            "  xs[i] = (bs[i] - U[i, i+1:]@xs[i+1:])/U[i, i]\n",
            "/tmp/ipython-input-555807959.py:11: RuntimeWarning: invalid value encountered in matmul\n",
            "  xs[i] = (bs[i] - U[i, i+1:]@xs[i+1:])/U[i, i]\n"
          ]
        }
      ]
    },
    {
      "cell_type": "code",
      "source": [
        "# problem 4.17\n",
        "\n",
        "def gauelim_aug(inA, inbs):   #performs gaussian elimination\n",
        "  A = np.copy(inA)\n",
        "  bs = np.copy(inbs)\n",
        "  n = bs.size\n",
        "\n",
        "  for j in range(n-1):\n",
        "    for i in range(j+1, n):\n",
        "      coeff = A[i, j]/A[j, j]\n",
        "      A[i, j:] -= coeff * A[j, j:]\n",
        "      bs[i] -= coeff * bs[j]\n",
        "\n",
        "  if np.all(A[n-1] == 0) and bs[i] != 0:   #replaces the A_33th element to a nonzero value\n",
        "    A[n-1, n-1] = 10**(-20)\n",
        "  xs = backsub(A, bs)\n",
        "  return xs\n",
        "\n",
        "print(gauelim_aug(inA, inbs))"
      ],
      "metadata": {
        "colab": {
          "base_uri": "https://localhost:8080/"
        },
        "id": "qEXoQHiLuL2X",
        "outputId": "9f48355d-2204-41fa-bac0-86a8e53da905"
      },
      "execution_count": null,
      "outputs": [
        {
          "output_type": "stream",
          "name": "stdout",
          "text": [
            "[-4.5e+20 -1.5e+20  1.5e+20  3.0e+20]\n"
          ]
        }
      ]
    },
    {
      "cell_type": "code",
      "source": [
        "# problem 4.18\n",
        "\n",
        "def termcrit(xolds, xnews):   #termination criterion\n",
        "  errs = np.abs((xnews - xolds)/xnews)\n",
        "  return np.sum(errs)\n",
        "\n",
        "def jacobi(n, kmax, tol):   #jacobi interative method\n",
        "  xnews = np.zeros(n)\n",
        "\n",
        "  for k in range(1, kmax):\n",
        "    xs = np.copy(xnews)\n",
        "\n",
        "    for i in range(n):\n",
        "      if i == 0:\n",
        "        xnews[i] = (1 + xs[i+1] + xs[n-1])/4\n",
        "      if i == n-1:\n",
        "        xnews[i] = (1 + xs[0] + xs[n-2])/4\n",
        "      else:\n",
        "        xnews[i] = (1 + xs[i-1] + xs[i+1])/4\n",
        "    err = termcrit(xs, xnews)\n",
        "    if err < tol:\n",
        "      break\n",
        "\n",
        "  else:\n",
        "    xnews = None\n",
        "  return xnews\n",
        "\n",
        "print(jacobi(10, 21, 10**(-5)))\n",
        "\n",
        "def cyctri(n):   #generates an nxn cyclic tridiagonal matrix\n",
        "  A = np.zeros((n, n))\n",
        "  A[0, 0] = 4\n",
        "  A[0, 1] = -1\n",
        "  A[0, -1] = -1\n",
        "  for i in range(1, n):\n",
        "    A[i] = np.roll(A[i-1], 1)\n",
        "  return A\n",
        "\n",
        "A = cyctri(10)\n",
        "bs = np.ones((10))\n",
        "print(np.linalg.solve(A, bs))"
      ],
      "metadata": {
        "colab": {
          "base_uri": "https://localhost:8080/"
        },
        "id": "UxtaJAQXjA52",
        "outputId": "8af32f21-4ec0-46a5-c206-c207aa45de7a",
        "collapsed": true
      },
      "execution_count": null,
      "outputs": [
        {
          "output_type": "stream",
          "name": "stdout",
          "text": [
            "[0.49999952 0.49999952 0.49999952 0.49999952 0.49999952 0.49999952\n",
            " 0.49999952 0.49999952 0.49999952 0.49999952]\n",
            "[[0.5]\n",
            " [0.5]\n",
            " [0.5]\n",
            " [0.5]\n",
            " [0.5]\n",
            " [0.5]\n",
            " [0.5]\n",
            " [0.5]\n",
            " [0.5]\n",
            " [0.5]]\n"
          ]
        }
      ]
    },
    {
      "cell_type": "code",
      "source": [
        "# problem 4.18\n",
        "\n",
        "print(jacobi(20, 22, 10**(-5)))\n",
        "\n",
        "A = cyctri(20)\n",
        "bs = np.ones((20))\n",
        "print(np.linalg.solve(A, bs))"
      ],
      "metadata": {
        "colab": {
          "base_uri": "https://localhost:8080/"
        },
        "id": "iqekmIht_q-X",
        "outputId": "4e11e54c-5e27-4b43-fbe8-2ef17e267506"
      },
      "execution_count": null,
      "outputs": [
        {
          "output_type": "stream",
          "name": "stdout",
          "text": [
            "[0.49999976 0.49999976 0.49999976 0.49999976 0.49999976 0.49999976\n",
            " 0.49999976 0.49999976 0.49999976 0.49999976 0.49999976 0.49999976\n",
            " 0.49999976 0.49999976 0.49999976 0.49999976 0.49999976 0.49999976\n",
            " 0.49999976 0.49999976]\n",
            "[0.5 0.5 0.5 0.5 0.5 0.5 0.5 0.5 0.5 0.5 0.5 0.5 0.5 0.5 0.5 0.5 0.5 0.5\n",
            " 0.5 0.5]\n"
          ]
        }
      ]
    }
  ]
}