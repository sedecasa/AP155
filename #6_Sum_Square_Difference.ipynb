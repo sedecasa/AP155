{
  "nbformat": 4,
  "nbformat_minor": 0,
  "metadata": {
    "colab": {
      "provenance": [],
      "authorship_tag": "ABX9TyPEukW3cv8QNB71YXkqIWvl",
      "include_colab_link": true
    },
    "kernelspec": {
      "name": "python3",
      "display_name": "Python 3"
    },
    "language_info": {
      "name": "python"
    }
  },
  "cells": [
    {
      "cell_type": "markdown",
      "metadata": {
        "id": "view-in-github",
        "colab_type": "text"
      },
      "source": [
        "<a href=\"https://colab.research.google.com/github/sedecasa/AP155/blob/main/%236_Sum_Square_Difference.ipynb\" target=\"_parent\"><img src=\"https://colab.research.google.com/assets/colab-badge.svg\" alt=\"Open In Colab\"/></a>"
      ]
    },
    {
      "cell_type": "code",
      "execution_count": null,
      "metadata": {
        "colab": {
          "base_uri": "https://localhost:8080/"
        },
        "id": "VXbDhtX6DNtI",
        "outputId": "929c9bda-a1b4-4230-ae00-b2aabaaf0bf3"
      },
      "outputs": [
        {
          "output_type": "stream",
          "name": "stdout",
          "text": [
            "25164150\n"
          ]
        }
      ],
      "source": [
        "x = 0   #let x be the sum of the squares\n",
        "for i in range(1, 101):\n",
        "  x += i**2\n",
        "\n",
        "y = 0   #let y be the square of the sum\n",
        "for i in range (1, 101):\n",
        "    y += i\n",
        "y = y**2\n",
        "\n",
        "print(y - x)"
      ]
    }
  ]
}