{
  "nbformat": 4,
  "nbformat_minor": 0,
  "metadata": {
    "colab": {
      "provenance": [],
      "authorship_tag": "ABX9TyNwwuqIREaSYpmA47OCP5D9",
      "include_colab_link": true
    },
    "kernelspec": {
      "name": "python3",
      "display_name": "Python 3"
    },
    "language_info": {
      "name": "python"
    }
  },
  "cells": [
    {
      "cell_type": "markdown",
      "metadata": {
        "id": "view-in-github",
        "colab_type": "text"
      },
      "source": [
        "<a href=\"https://colab.research.google.com/github/sedecasa/AP155/blob/main/%234_Largest_Palindrome_Product.ipynb\" target=\"_parent\"><img src=\"https://colab.research.google.com/assets/colab-badge.svg\" alt=\"Open In Colab\"/></a>"
      ]
    },
    {
      "cell_type": "code",
      "execution_count": null,
      "metadata": {
        "colab": {
          "base_uri": "https://localhost:8080/"
        },
        "id": "fNvl0DhNU9Tr",
        "outputId": "c231b875-9b9a-4975-89e9-bf4fcb9e4139"
      },
      "outputs": [
        {
          "output_type": "stream",
          "name": "stdout",
          "text": [
            "698896\n"
          ]
        }
      ],
      "source": [
        "products = []\n",
        "for i in range(100, 1000):\n",
        "  products.append(i*i)\n",
        "  products.sort(reverse = True)  #this method sorts the list items in decreasing order\n",
        "\n",
        "criteria = lambda x: x == int(str(x)[::-1])\n",
        "palindrome = list(filter(criteria, products))\n",
        "\n",
        "print(palindrome[0])"
      ]
    }
  ]
}