{
  "nbformat": 4,
  "nbformat_minor": 0,
  "metadata": {
    "colab": {
      "provenance": [],
      "authorship_tag": "ABX9TyNPzQ40n5R88X+XwqeVPfqW",
      "include_colab_link": true
    },
    "kernelspec": {
      "name": "python3",
      "display_name": "Python 3"
    },
    "language_info": {
      "name": "python"
    }
  },
  "cells": [
    {
      "cell_type": "markdown",
      "metadata": {
        "id": "view-in-github",
        "colab_type": "text"
      },
      "source": [
        "<a href=\"https://colab.research.google.com/github/sedecasa/AP155/blob/main/List_Handling_Extra_Exercises.ipynb\" target=\"_parent\"><img src=\"https://colab.research.google.com/assets/colab-badge.svg\" alt=\"Open In Colab\"/></a>"
      ]
    },
    {
      "cell_type": "code",
      "execution_count": null,
      "metadata": {
        "colab": {
          "base_uri": "https://localhost:8080/"
        },
        "id": "UD7SQT2Dne-a",
        "outputId": "976b21ce-0c7e-433a-8d11-395ac6a1934d"
      },
      "outputs": [
        {
          "output_type": "stream",
          "name": "stdout",
          "text": [
            "[[7, 2, 6, 3], [5, 4, 1, 6], [2, 4, 3, 9]]\n"
          ]
        }
      ],
      "source": [
        "'''\n",
        "A.1.\n",
        "The following code generates a function that creates a matrix in form of\n",
        "\"list-of-lists\" whose elements are random integers from 1 to 9.\n",
        "'''\n",
        "\n",
        "import random\n",
        "def random_integer_matrix(nrows, ncols):\n",
        "  matrix = []\n",
        "  elements = []\n",
        "  for i in range(nrows):\n",
        "    elements = [random.randint(1,9) for i in range(ncols)]\n",
        "    matrix.append(elements)  #each 'elements' list will correspond to a row in the matrix\n",
        "  return matrix\n",
        "\n",
        "print(random_integer_matrix(3, 4))  #an example to check if the code works"
      ]
    },
    {
      "cell_type": "code",
      "source": [
        "'''\n",
        "A.2.\n",
        "The following code generates a function that takes in two arguments in the form\n",
        "of lists. The function multiplies each element at the same index in the two lists\n",
        "(assuming that they have the same size) and adds the results.\n",
        "'''\n",
        "\n",
        "def scalar_product(list1, list2):\n",
        "  sum = 0\n",
        "  for i in range(len(list1)):\n",
        "    sum += list1[i] * list2[i]  #multiplies each element at the same index in the two lists, and then sums up all of the products\n",
        "  return sum\n",
        "\n",
        "print(scalar_product([7, 2, 6, 3], [5, 4, 1, 6]))  #an example to check if the code works"
      ],
      "metadata": {
        "colab": {
          "base_uri": "https://localhost:8080/"
        },
        "id": "-wSEea2pov7l",
        "outputId": "0e91e425-28cb-49af-eb4a-ee0d5e735c2d"
      },
      "execution_count": null,
      "outputs": [
        {
          "output_type": "stream",
          "name": "stdout",
          "text": [
            "67\n"
          ]
        }
      ]
    },
    {
      "cell_type": "code",
      "source": [
        "'''\n",
        "A.3.\n",
        "The following code generates a function that returns the transpose of any matrix\n",
        "also in \"list-of-lists\" form.\n",
        "'''\n",
        "\n",
        "def transpose_matrix(orig_matrix):\n",
        "  matrix = []\n",
        "  for k in range(len(orig_matrix[0])):\n",
        "    elements = []\n",
        "    for i in range(len(orig_matrix)):\n",
        "      elements.append(orig_matrix[i][k])    #this compiles the kth element of every row in the orig. matrix into an 'elements' list\n",
        "    matrix.append(elements)    #each 'elements' list will correspond to a row in the transp. matrix\n",
        "  return matrix\n",
        "\n",
        "print(transpose_matrix([[7, 2, 6, 3], [5, 4, 1, 6], [2, 4, 3, 9]]))  #an example to check if the code works"
      ],
      "metadata": {
        "colab": {
          "base_uri": "https://localhost:8080/"
        },
        "id": "GOsyu0r6peLl",
        "outputId": "51b9b35b-42fd-409d-db6f-933150859da1"
      },
      "execution_count": null,
      "outputs": [
        {
          "output_type": "stream",
          "name": "stdout",
          "text": [
            "[[7, 5, 2], [2, 4, 4], [6, 1, 3], [3, 6, 9]]\n"
          ]
        }
      ]
    },
    {
      "cell_type": "code",
      "source": [
        "'''\n",
        "A.4.\n",
        "The following code generates a function that performs matrix multiplication.\n",
        "'''\n",
        "\n",
        "def scalar_product(list1, list2):  #functions that same way as described in A.2.\n",
        "  sum = 0\n",
        "  for i in range(len(list1)):\n",
        "    sum += list1[i] * list2[i]\n",
        "  return sum\n",
        "\n",
        "def transpose_matrix(orig_matrix):  #functions the same way as described in A.3.\n",
        "  matrix = []\n",
        "  for k in range(len(orig_matrix[0])):\n",
        "    elements = []\n",
        "    for i in range(len(orig_matrix)):\n",
        "      elements.append(orig_matrix[i][k])\n",
        "    matrix.append(elements)\n",
        "  return matrix\n",
        "\n",
        "def matrix_multiply(left_matrix, right_matrix):\n",
        "  transposed_right_matrix = transpose_matrix(right_matrix)  #transposes the right_matrix so that its size equals that of the left_matrix; hence I can use the scalar_product function\n",
        "  product_matrix = []\n",
        "  for i in range(len(left_matrix)):\n",
        "    product_elements = []\n",
        "    for k in range(len(transposed_right_matrix)):\n",
        "      product_elements.append(scalar_product(left_matrix[i], transposed_right_matrix[k]))  #multiplies the ith row of the left_matrix to each row of the transposed_right_matrix (according to the rules of the scalar_product function)\n",
        "    product_matrix.append(product_elements)  #each 'product_elements' list will correspond to a row in the product_matrix\n",
        "  return product_matrix\n",
        "\n",
        "#the following is an example to check if the code works\n",
        "matrix_1 = [[1, 2], [3, 4], [5, 6]]\n",
        "matrix_2 = [[1, 2, 3], [4, 5, 6]]\n",
        "\n",
        "print(matrix_multiply(matrix_1, matrix_2))"
      ],
      "metadata": {
        "colab": {
          "base_uri": "https://localhost:8080/"
        },
        "id": "lrCfiYiT3yiE",
        "outputId": "8049b7b2-83cb-4fe9-c951-0816d554180a"
      },
      "execution_count": 16,
      "outputs": [
        {
          "output_type": "stream",
          "name": "stdout",
          "text": [
            "[[9, 12, 15], [19, 26, 33], [29, 40, 51]]\n"
          ]
        }
      ]
    }
  ]
}