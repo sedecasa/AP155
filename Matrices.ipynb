{
  "nbformat": 4,
  "nbformat_minor": 0,
  "metadata": {
    "colab": {
      "provenance": [],
      "authorship_tag": "ABX9TyPqPWQh2nmobW/7sa4OmT0l",
      "include_colab_link": true
    },
    "kernelspec": {
      "name": "python3",
      "display_name": "Python 3"
    },
    "language_info": {
      "name": "python"
    }
  },
  "cells": [
    {
      "cell_type": "markdown",
      "metadata": {
        "id": "view-in-github",
        "colab_type": "text"
      },
      "source": [
        "<a href=\"https://colab.research.google.com/github/sedecasa/AP155/blob/main/Matrices.ipynb\" target=\"_parent\"><img src=\"https://colab.research.google.com/assets/colab-badge.svg\" alt=\"Open In Colab\"/></a>"
      ]
    },
    {
      "cell_type": "code",
      "execution_count": null,
      "metadata": {
        "colab": {
          "base_uri": "https://localhost:8080/"
        },
        "id": "kHRATcTKv-gO",
        "outputId": "553f56b5-ce3e-433d-da78-edb9bf3a410b"
      },
      "outputs": [
        {
          "output_type": "execute_result",
          "data": {
            "text/plain": [
              "array([1.66666667, 1.66666667])"
            ]
          },
          "metadata": {},
          "execution_count": 15
        }
      ],
      "source": [
        "import numpy as np\n",
        "\n",
        "r1, r2, r3, r4 = 1, 2, 3, 4 #ohm\n",
        "v_in = 5 #volt\n",
        "N = 2\n",
        "\n",
        "def potential_diff_mat(N, r1, r2, r3, r4): #solving for v1, v2, ... vN\n",
        "  b = np.zeros(N)\n",
        "  b[0] = v_in/r4 #ampere\n",
        "  b[1] = v_in/r1 #ampere\n",
        "\n",
        "  A = np.zeros((N, N))\n",
        "  for j in range(N):\n",
        "    if j % 2 == 0:\n",
        "      if j-2 >= 0: A[j][j-2] = -1/r1\n",
        "      if j-1 >= 0: A[j][j-1] = -1/r3\n",
        "      A[j][j] = 2/r1 + 1/r3 + 1/r4\n",
        "      if j+1 < N: A[j][j+1] = -1/r4\n",
        "      if j+2 < N: A[j][j+2] = -1/r1\n",
        "    else:\n",
        "      if j-2 >= 0: A[j][j-2] = -1/r2\n",
        "      if j-1 >= 0: A[j][j-1] = -1/r4\n",
        "      A[j][j] = 2/r2 + 1/r3 + 1/r4\n",
        "      if j+1 < N: A[j][j+1] = -1/r3\n",
        "      if j+2 < N: A[j][j+2] = -1/r2\n",
        "\n",
        "  return np.linalg.solve(A, b)\n",
        "\n",
        "K = potential_diff_mat(N, r1, r2, r3, r4)"
      ]
    }
  ]
}